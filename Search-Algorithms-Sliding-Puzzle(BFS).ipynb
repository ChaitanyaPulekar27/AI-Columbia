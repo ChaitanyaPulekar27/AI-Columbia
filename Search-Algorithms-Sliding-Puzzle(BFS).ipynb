{
 "cells": [
  {
   "cell_type": "markdown",
   "metadata": {
    "collapsed": true
   },
   "source": [
    "# Sliding Puzzle \n",
    "<img src='sliding_puzzle.png'>\n",
    "- *Goal* : Solve a 3x3 sliding puzzle using BFS (breadth-first search) using an UDLR (Up, Down, Left, Right) search process."
   ]
  },
  {
   "cell_type": "code",
   "execution_count": 4,
   "metadata": {
    "collapsed": false
   },
   "outputs": [],
   "source": [
    "from sliding_puzzle_search import State"
   ]
  },
  {
   "cell_type": "code",
   "execution_count": 20,
   "metadata": {
    "collapsed": true
   },
   "outputs": [],
   "source": [
    "## set a board of nine numbers\n",
    "board1 = [1,2,5,3,4,0,6,7,8]"
   ]
  },
  {
   "cell_type": "code",
   "execution_count": 21,
   "metadata": {
    "collapsed": false
   },
   "outputs": [],
   "source": [
    "## Create an instance of our class\n",
    "first_board = State(board1)"
   ]
  },
  {
   "cell_type": "code",
   "execution_count": 22,
   "metadata": {
    "collapsed": false
   },
   "outputs": [
    {
     "name": "stdout",
     "output_type": "stream",
     "text": [
      "[[ 1.  2.  0.]\n",
      " [ 3.  4.  5.]\n",
      " [ 6.  7.  8.]]\n",
      "up broke\n",
      "down broke\n",
      "[[ 1.  0.  2.]\n",
      " [ 3.  4.  5.]\n",
      " [ 6.  7.  8.]]\n",
      "up broke\n",
      "right broke\n",
      "[[ 1.  4.  2.]\n",
      " [ 3.  0.  5.]\n",
      " [ 6.  7.  8.]]\n",
      "up broke\n",
      "[[ 1.  4.  2.]\n",
      " [ 3.  7.  5.]\n",
      " [ 6.  0.  8.]]\n",
      "up broke\n",
      "down broke - try\n",
      "[[ 1.  4.  2.]\n",
      " [ 3.  7.  5.]\n",
      " [ 0.  6.  8.]]\n",
      "down broke - try\n",
      "right broke\n",
      "[[ 1.  4.  2.]\n",
      " [ 0.  7.  5.]\n",
      " [ 3.  6.  8.]]\n",
      "down broke\n",
      "[[ 0.  4.  2.]\n",
      " [ 1.  7.  5.]\n",
      " [ 3.  6.  8.]]\n",
      "up broke\n",
      "down broke\n",
      "[[ 4.  0.  2.]\n",
      " [ 1.  7.  5.]\n",
      " [ 3.  6.  8.]]\n",
      "up broke\n",
      "left broke\n",
      "[[ 4.  7.  2.]\n",
      " [ 1.  0.  5.]\n",
      " [ 3.  6.  8.]]\n",
      "up broke\n",
      "[[ 4.  7.  2.]\n",
      " [ 1.  6.  5.]\n",
      " [ 3.  0.  8.]]\n",
      "up broke\n",
      "down broke - try\n",
      "[[ 4.  7.  2.]\n",
      " [ 1.  6.  5.]\n",
      " [ 0.  3.  8.]]\n",
      "down broke - try\n",
      "right broke\n",
      "[[ 4.  7.  2.]\n",
      " [ 0.  6.  5.]\n",
      " [ 1.  3.  8.]]\n",
      "down broke\n",
      "[[ 0.  7.  2.]\n",
      " [ 4.  6.  5.]\n",
      " [ 1.  3.  8.]]\n",
      "up broke\n",
      "down broke\n",
      "[[ 7.  0.  2.]\n",
      " [ 4.  6.  5.]\n",
      " [ 1.  3.  8.]]\n",
      "up broke\n",
      "left broke\n",
      "[[ 7.  6.  2.]\n",
      " [ 4.  0.  5.]\n",
      " [ 1.  3.  8.]]\n",
      "up broke\n",
      "[[ 7.  6.  2.]\n",
      " [ 4.  3.  5.]\n",
      " [ 1.  0.  8.]]\n",
      "up broke\n",
      "down broke - try\n",
      "[[ 7.  6.  2.]\n",
      " [ 4.  3.  5.]\n",
      " [ 0.  1.  8.]]\n",
      "down broke - try\n",
      "right broke\n",
      "[[ 7.  6.  2.]\n",
      " [ 0.  3.  5.]\n",
      " [ 4.  1.  8.]]\n",
      "down broke\n",
      "[[ 0.  6.  2.]\n",
      " [ 7.  3.  5.]\n",
      " [ 4.  1.  8.]]\n",
      "up broke\n",
      "down broke\n",
      "[[ 6.  0.  2.]\n",
      " [ 7.  3.  5.]\n",
      " [ 4.  1.  8.]]\n",
      "up broke\n",
      "left broke\n",
      "[[ 6.  3.  2.]\n",
      " [ 7.  0.  5.]\n",
      " [ 4.  1.  8.]]\n",
      "up broke\n",
      "[[ 6.  3.  2.]\n",
      " [ 7.  1.  5.]\n",
      " [ 4.  0.  8.]]\n",
      "up broke\n",
      "down broke - try\n",
      "[[ 6.  3.  2.]\n",
      " [ 7.  1.  5.]\n",
      " [ 0.  4.  8.]]\n",
      "down broke - try\n",
      "right broke\n",
      "[[ 6.  3.  2.]\n",
      " [ 0.  1.  5.]\n",
      " [ 7.  4.  8.]]\n",
      "down broke\n",
      "[[ 0.  3.  2.]\n",
      " [ 6.  1.  5.]\n",
      " [ 7.  4.  8.]]\n",
      "up broke\n",
      "down broke\n",
      "[[ 3.  0.  2.]\n",
      " [ 6.  1.  5.]\n",
      " [ 7.  4.  8.]]\n",
      "up broke\n",
      "left broke\n",
      "[[ 3.  1.  2.]\n",
      " [ 6.  0.  5.]\n",
      " [ 7.  4.  8.]]\n",
      "up broke\n",
      "[[ 3.  1.  2.]\n",
      " [ 6.  4.  5.]\n",
      " [ 7.  0.  8.]]\n",
      "up broke\n",
      "down broke - try\n",
      "[[ 3.  1.  2.]\n",
      " [ 6.  4.  5.]\n",
      " [ 0.  7.  8.]]\n",
      "down broke - try\n",
      "right broke\n",
      "[[ 3.  1.  2.]\n",
      " [ 0.  4.  5.]\n",
      " [ 6.  7.  8.]]\n",
      "down broke\n",
      "[[ 0.  1.  2.]\n",
      " [ 3.  4.  5.]\n",
      " [ 6.  7.  8.]]\n",
      "YOU SOLVED IT!\n",
      "It took 31 moves to solve\n",
      "The path taken was [(3.0, 'up'), (6.0, 'up'), (7.0, 'left'), (4.0, 'down'), (1.0, 'down'), (3.0, 'right'), (6.0, 'up'), (7.0, 'up'), (4.0, 'left'), (1.0, 'down'), (3.0, 'down'), (6.0, 'right'), (7.0, 'up'), (4.0, 'up'), (1.0, 'left'), (3.0, 'down'), (6.0, 'down'), (7.0, 'right'), (4.0, 'up'), (1.0, 'up'), (3.0, 'left'), (6.0, 'down'), (7.0, 'down'), (4.0, 'right'), (1.0, 'up'), (3.0, 'up'), (6.0, 'left'), (7.0, 'down'), (4.0, 'down'), (2.0, 'left'), (5.0, 'up')]\n"
     ]
    },
    {
     "data": {
      "text/plain": [
       "(array([[ 0.,  1.,  2.],\n",
       "        [ 3.,  4.,  5.],\n",
       "        [ 6.,  7.,  8.]]), ' You found a board!')"
      ]
     },
     "execution_count": 22,
     "metadata": {},
     "output_type": "execute_result"
    }
   ],
   "source": [
    "#Solve the board\n",
    "first_board.solve()"
   ]
  },
  {
   "cell_type": "code",
   "execution_count": null,
   "metadata": {
    "collapsed": true
   },
   "outputs": [],
   "source": []
  }
 ],
 "metadata": {
  "anaconda-cloud": {},
  "kernelspec": {
   "display_name": "Python [conda root]",
   "language": "python",
   "name": "conda-root-py"
  },
  "language_info": {
   "codemirror_mode": {
    "name": "ipython",
    "version": 3
   },
   "file_extension": ".py",
   "mimetype": "text/x-python",
   "name": "python",
   "nbconvert_exporter": "python",
   "pygments_lexer": "ipython3",
   "version": "3.5.2"
  }
 },
 "nbformat": 4,
 "nbformat_minor": 1
}
