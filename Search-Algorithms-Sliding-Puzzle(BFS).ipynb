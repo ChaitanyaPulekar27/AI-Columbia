{
 "cells": [
  {
   "cell_type": "code",
   "execution_count": 24,
   "metadata": {
    "collapsed": true
   },
   "outputs": [],
   "source": [
    "import numpy as np"
   ]
  },
  {
   "cell_type": "code",
   "execution_count": 336,
   "metadata": {
    "collapsed": false
   },
   "outputs": [],
   "source": [
    "##python driver.py bfs 1,2,5,3,4,0,6,7,8 ## test case\n",
    "\n",
    "### Class state, starting with BFS\n",
    "\n",
    "class State():\n",
    "    \n",
    "    def __init__(self,board):\n",
    "        self.board = board_box(board) ### fetch a 3x3 matrix that represents that board\n",
    "        self.queue = []### que\n",
    "        self.finished_board = np.array([[0,1,2],\n",
    "                                       [3,4,5],\n",
    "                                       [6,7,8]]) ### finished board\n",
    "        self.visited_states=[] ### store  visited states here\n",
    "        min_idx = np.where(self.board == np.min(self.board)) ## find the starting indexes on the board\n",
    "        row_num = min_idx[0][0]\n",
    "        col_num = min_idx[1][0]\n",
    "        self.curr_row = row_num\n",
    "        self.curr_col = col_num\n",
    "        self.path_taken = []\n",
    "    def enqueue(self,item):\n",
    "        self.queue.insert(0,item)\n",
    "    def dequeue(self):\n",
    "        move = self.queue.pop() ## get the last item out of the queue\n",
    "        number_of_move_taken, move_taken = move[0],move[1] ## break into the text and the number\n",
    "        \n",
    "        self.path_taken.insert(0,move_taken)\n",
    "        self.board_swap(move_taken,'actual')\n",
    "        \n",
    "        current_pointer = np.where(self.board == number_of_move_taken) ## find the index of where that number is on the board\n",
    "        row_num = current_pointer[0][0]\n",
    "        col_num = current_pointer[1][0]\n",
    "        ### change the current row and col pointers\n",
    "        self.curr_row = row_num\n",
    "        self.curr_col = col_num\n",
    "        \n",
    "        \n",
    "        \n",
    "        \n",
    "        return move\n",
    "    def size(self):\n",
    "        return len(self.queue)\n",
    "    def move(self): # Move once\n",
    "        pieces = []\n",
    "        try:\n",
    "            up = self.board[self.curr_row-1,self.curr_col] ## Up\n",
    "            #print(self.board_swap('up','test'),'up test')\n",
    "            if self.board_swap('up','test') not in self.visited_states: ### do not allow the algo to visit states again\n",
    "                self.enqueue((up,'up'))\n",
    "                self.visited_states.append(self.board_swap('up','test').flatten())\n",
    "            else:\n",
    "                print('up broke')\n",
    "        except :\n",
    "            pass\n",
    "        try:\n",
    "            down = self.board[self.curr_row+1,self.curr_col] \n",
    "            if self.board_swap('down','test') not in self.visited_states: ### do not allow the algo to visit states again\n",
    "                self.enqueue((down,'down'))\n",
    "                self.visited_states.append(self.board_swap('down','test').flatten())\n",
    "            else:\n",
    "                print('down broke')\n",
    "        except:\n",
    "            pass\n",
    "        try:\n",
    "            left = self.board[self.curr_row,self.curr_col-1] \n",
    "            #print(self.board_swap('left','test') , 'testing left')\n",
    "            if self.board_swap('left','test') not in self.visited_states: ### do not allow the algo to visit states again\n",
    "                self.enqueue((left,'left'))\n",
    "                self.visited_states.append(self.board_swap('left','test').flatten())\n",
    "            else:\n",
    "                print('left broke')\n",
    "        except:\n",
    "            pass\n",
    "        try:\n",
    "            right = self.board[self.curr_row,self.curr_col+1]\n",
    "            #print(self.board_swap('right','test') , 'testing right')\n",
    "            if self.board_swap('right','test') not in self.visited_states: ### do not allow the algo to visit states again\n",
    "                self.enqueue((right,'right'))\n",
    "                self.visited_states.append(self.board_swap('right','test').flatten())\n",
    "            else:\n",
    "                print('right broke')\n",
    "        except:\n",
    "            pass\n",
    "    def board_swap(self,s_type,test_or_actual):\n",
    "        self.test_board = self.board.copy()\n",
    "        if test_or_actual =='actual': ### permantely change the board\n",
    "            if s_type == 'up':\n",
    "                self.board[self.curr_row,self.curr_col] ,self.board[self.curr_row-1,self.curr_col] = \\\n",
    "                self.board[self.curr_row-1,self.curr_col], self.board[self.curr_row,self.curr_col]\n",
    "            elif s_type == 'down':\n",
    "                self.board[self.curr_row,self.curr_col] ,self.board[self.curr_row+1,self.curr_col]  = \\\n",
    "                self.board[self.curr_row+1,self.curr_col] , self.board[self.curr_row,self.curr_col]\n",
    "            elif s_type =='left':\n",
    "                self.board[self.curr_row,self.curr_col] ,self.board[self.curr_row,self.curr_col-1]   = \\\n",
    "                self.board[self.curr_row,self.curr_col-1]  , self.board[self.curr_row,self.curr_col]\n",
    "            elif s_type =='right':\n",
    "                self.board[self.curr_row,self.curr_col] ,self.board[self.curr_row,self.curr_col+1]  = \\\n",
    "                self.board[self.curr_row,self.curr_col+1], self.board[self.curr_row,self.curr_col]        \n",
    "        elif test_or_actual =='test': ## don't change the board\n",
    "            if s_type == 'up':\n",
    "                self.test_board[self.curr_row,self.curr_col] ,self.test_board[self.curr_row-1,self.curr_col] = \\\n",
    "                self.test_board[self.curr_row-1,self.curr_col], self.test_board[self.curr_row,self.curr_col]\n",
    "                return self.test_board\n",
    "            elif s_type == 'down':\n",
    "                self.test_board[self.curr_row,self.curr_col] ,self.test_board[self.curr_row+1,self.curr_col]  = \\\n",
    "                self.test_board[self.curr_row+1,self.curr_col] , self.test_board[self.curr_row,self.curr_col]\n",
    "                return self.test_board\n",
    "            elif s_type =='left':\n",
    "                self.test_board[self.curr_row,self.curr_col] ,self.test_board[self.curr_row,self.curr_col-1]   = \\\n",
    "                self.test_board[self.curr_row,self.curr_col-1]  , self.test_board[self.curr_row,self.curr_col]\n",
    "                return self.test_board\n",
    "            elif s_type =='right':\n",
    "                self.test_board[self.curr_row,self.curr_col] ,self.test_board[self.curr_row,self.curr_col+1]  = \\\n",
    "                self.test_board[self.curr_row,self.curr_col+1], self.test_board[self.curr_row,self.curr_col]\n",
    "                return self.test_board\n",
    "            \n",
    "            \n",
    "    "
   ]
  },
  {
   "cell_type": "code",
   "execution_count": 196,
   "metadata": {
    "collapsed": true
   },
   "outputs": [],
   "source": [
    "t = [1,2,5,3,0,4,6,7,8 ]"
   ]
  },
  {
   "cell_type": "code",
   "execution_count": 73,
   "metadata": {
    "collapsed": false
   },
   "outputs": [],
   "source": [
    "f = np.zeros((3,3))\n",
    "\n",
    "def board_box(game_numbers):\n",
    "    f = np.zeros((3,3))\n",
    "    row_num = 0\n",
    "    col_num = 0\n",
    "    for idx, number in enumerate(game_numbers):\n",
    "        if col_num ==2:\n",
    "            f[row_num,col_num]=number\n",
    "            col_num=0\n",
    "            row_num+=1\n",
    "        else:\n",
    "            f[row_num,col_num]=number\n",
    "            col_num+=1\n",
    "    return f\n",
    "\n",
    "\n",
    "    "
   ]
  },
  {
   "cell_type": "code",
   "execution_count": 88,
   "metadata": {
    "collapsed": false
   },
   "outputs": [
    {
     "data": {
      "text/plain": [
       "2"
      ]
     },
     "execution_count": 88,
     "metadata": {},
     "output_type": "execute_result"
    }
   ],
   "source": [
    "np.where(board_box(t) == np.min(board_box(t)))[1][0]"
   ]
  },
  {
   "cell_type": "code",
   "execution_count": 200,
   "metadata": {
    "collapsed": false
   },
   "outputs": [
    {
     "data": {
      "text/plain": [
       "array([[ 1.,  2.,  5.],\n",
       "       [ 3.,  0.,  4.],\n",
       "       [ 6.,  7.,  8.]])"
      ]
     },
     "execution_count": 200,
     "metadata": {},
     "output_type": "execute_result"
    }
   ],
   "source": [
    "r = board_box(t)\n",
    "r"
   ]
  },
  {
   "cell_type": "code",
   "execution_count": 198,
   "metadata": {
    "collapsed": true
   },
   "outputs": [],
   "source": [
    "r[1,2] ,r[0,2] =r[0,2],r[1,2]"
   ]
  },
  {
   "cell_type": "code",
   "execution_count": 239,
   "metadata": {
    "collapsed": false
   },
   "outputs": [
    {
     "data": {
      "text/plain": [
       "array([[ 1.,  2.,  5.],\n",
       "       [ 3.,  0.,  4.],\n",
       "       [ 6.,  7.,  8.]])"
      ]
     },
     "execution_count": 239,
     "metadata": {},
     "output_type": "execute_result"
    }
   ],
   "source": [
    "r"
   ]
  },
  {
   "cell_type": "code",
   "execution_count": 337,
   "metadata": {
    "collapsed": false
   },
   "outputs": [],
   "source": [
    "s = State(t)"
   ]
  },
  {
   "cell_type": "code",
   "execution_count": 338,
   "metadata": {
    "collapsed": false
   },
   "outputs": [
    {
     "data": {
      "text/plain": [
       "array([[ 1.,  2.,  5.],\n",
       "       [ 3.,  0.,  4.],\n",
       "       [ 6.,  7.,  8.]])"
      ]
     },
     "execution_count": 338,
     "metadata": {},
     "output_type": "execute_result"
    }
   ],
   "source": [
    "s.board"
   ]
  },
  {
   "cell_type": "code",
   "execution_count": 339,
   "metadata": {
    "collapsed": false
   },
   "outputs": [
    {
     "name": "stderr",
     "output_type": "stream",
     "text": [
      "/Users/jonathanhilgart/anaconda/lib/python3.5/site-packages/ipykernel/__main__.py:56: DeprecationWarning: elementwise == comparison failed; this will raise an error in the future.\n",
      "/Users/jonathanhilgart/anaconda/lib/python3.5/site-packages/ipykernel/__main__.py:66: DeprecationWarning: elementwise == comparison failed; this will raise an error in the future.\n",
      "/Users/jonathanhilgart/anaconda/lib/python3.5/site-packages/ipykernel/__main__.py:76: DeprecationWarning: elementwise == comparison failed; this will raise an error in the future.\n"
     ]
    }
   ],
   "source": [
    "s.move()"
   ]
  },
  {
   "cell_type": "code",
   "execution_count": 340,
   "metadata": {
    "collapsed": false
   },
   "outputs": [
    {
     "data": {
      "text/plain": [
       "[(4.0, 'right'), (3.0, 'left'), (7.0, 'down'), (2.0, 'up')]"
      ]
     },
     "execution_count": 340,
     "metadata": {},
     "output_type": "execute_result"
    }
   ],
   "source": [
    "s.queue"
   ]
  },
  {
   "cell_type": "code",
   "execution_count": 341,
   "metadata": {
    "collapsed": false
   },
   "outputs": [
    {
     "data": {
      "text/plain": [
       "(2.0, 'up')"
      ]
     },
     "execution_count": 341,
     "metadata": {},
     "output_type": "execute_result"
    }
   ],
   "source": [
    "s.dequeue()"
   ]
  },
  {
   "cell_type": "code",
   "execution_count": 342,
   "metadata": {
    "collapsed": false
   },
   "outputs": [
    {
     "data": {
      "text/plain": [
       "1"
      ]
     },
     "execution_count": 342,
     "metadata": {},
     "output_type": "execute_result"
    }
   ],
   "source": [
    "s.curr_col"
   ]
  },
  {
   "cell_type": "code",
   "execution_count": 343,
   "metadata": {
    "collapsed": false
   },
   "outputs": [
    {
     "data": {
      "text/plain": [
       "1"
      ]
     },
     "execution_count": 343,
     "metadata": {},
     "output_type": "execute_result"
    }
   ],
   "source": [
    "s.curr_row"
   ]
  },
  {
   "cell_type": "code",
   "execution_count": 344,
   "metadata": {
    "collapsed": false
   },
   "outputs": [
    {
     "data": {
      "text/plain": [
       "['up']"
      ]
     },
     "execution_count": 344,
     "metadata": {},
     "output_type": "execute_result"
    }
   ],
   "source": [
    "s.path_taken"
   ]
  },
  {
   "cell_type": "code",
   "execution_count": 345,
   "metadata": {
    "collapsed": false
   },
   "outputs": [
    {
     "data": {
      "text/plain": [
       "array([[ 1.,  0.,  5.],\n",
       "       [ 3.,  2.,  4.],\n",
       "       [ 6.,  7.,  8.]])"
      ]
     },
     "execution_count": 345,
     "metadata": {},
     "output_type": "execute_result"
    }
   ],
   "source": [
    "s.board"
   ]
  },
  {
   "cell_type": "code",
   "execution_count": 349,
   "metadata": {
    "collapsed": false
   },
   "outputs": [
    {
     "name": "stderr",
     "output_type": "stream",
     "text": [
      "/Users/jonathanhilgart/anaconda/lib/python3.5/site-packages/ipykernel/__main__.py:47: DeprecationWarning: elementwise == comparison failed; this will raise an error in the future.\n",
      "/Users/jonathanhilgart/anaconda/lib/python3.5/site-packages/ipykernel/__main__.py:56: DeprecationWarning: elementwise == comparison failed; this will raise an error in the future.\n",
      "/Users/jonathanhilgart/anaconda/lib/python3.5/site-packages/ipykernel/__main__.py:66: DeprecationWarning: elementwise == comparison failed; this will raise an error in the future.\n",
      "/Users/jonathanhilgart/anaconda/lib/python3.5/site-packages/ipykernel/__main__.py:76: DeprecationWarning: elementwise == comparison failed; this will raise an error in the future.\n"
     ]
    }
   ],
   "source": [
    "s.move()"
   ]
  },
  {
   "cell_type": "code",
   "execution_count": 350,
   "metadata": {
    "collapsed": false
   },
   "outputs": [
    {
     "data": {
      "text/plain": [
       "[(4.0, 'right'),\n",
       " (3.0, 'left'),\n",
       " (7.0, 'down'),\n",
       " (0.0, 'up'),\n",
       " (4.0, 'right'),\n",
       " (3.0, 'left'),\n",
       " (7.0, 'down'),\n",
       " (0.0, 'up'),\n",
       " (4.0, 'right'),\n",
       " (3.0, 'left'),\n",
       " (7.0, 'down')]"
      ]
     },
     "execution_count": 350,
     "metadata": {},
     "output_type": "execute_result"
    }
   ],
   "source": [
    "s.queue"
   ]
  },
  {
   "cell_type": "code",
   "execution_count": 351,
   "metadata": {
    "collapsed": false
   },
   "outputs": [
    {
     "data": {
      "text/plain": [
       "array([[ 1.,  0.,  5.],\n",
       "       [ 3.,  2.,  4.],\n",
       "       [ 6.,  7.,  8.]])"
      ]
     },
     "execution_count": 351,
     "metadata": {},
     "output_type": "execute_result"
    }
   ],
   "source": [
    "s.board"
   ]
  },
  {
   "cell_type": "code",
   "execution_count": 315,
   "metadata": {
    "collapsed": false
   },
   "outputs": [
    {
     "data": {
      "text/plain": [
       "['up']"
      ]
     },
     "execution_count": 315,
     "metadata": {},
     "output_type": "execute_result"
    }
   ],
   "source": [
    "s.path_taken"
   ]
  },
  {
   "cell_type": "code",
   "execution_count": 317,
   "metadata": {
    "collapsed": false
   },
   "outputs": [
    {
     "data": {
      "text/plain": [
       "(7.0, 'down')"
      ]
     },
     "execution_count": 317,
     "metadata": {},
     "output_type": "execute_result"
    }
   ],
   "source": [
    "s.dequeue()"
   ]
  },
  {
   "cell_type": "code",
   "execution_count": null,
   "metadata": {
    "collapsed": true
   },
   "outputs": [],
   "source": []
  }
 ],
 "metadata": {
  "anaconda-cloud": {},
  "kernelspec": {
   "display_name": "Python [conda root]",
   "language": "python",
   "name": "conda-root-py"
  },
  "language_info": {
   "codemirror_mode": {
    "name": "ipython",
    "version": 3
   },
   "file_extension": ".py",
   "mimetype": "text/x-python",
   "name": "python",
   "nbconvert_exporter": "python",
   "pygments_lexer": "ipython3",
   "version": "3.5.2"
  }
 },
 "nbformat": 4,
 "nbformat_minor": 1
}
